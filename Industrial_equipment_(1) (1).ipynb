{
  "nbformat": 4,
  "nbformat_minor": 0,
  "metadata": {
    "colab": {
      "provenance": [],
      "gpuType": "V28"
    },
    "kernelspec": {
      "name": "python3",
      "display_name": "Python 3"
    },
    "language_info": {
      "name": "python"
    },
    "accelerator": "TPU"
  },
  "cells": [
    {
      "cell_type": "code",
      "execution_count": null,
      "metadata": {
        "colab": {
          "base_uri": "https://localhost:8080/"
        },
        "id": "v0FtkUg5zYpP",
        "outputId": "fd7ec725-9a8b-4b7c-ae1f-fd2562734571"
      },
      "outputs": [
        {
          "output_type": "stream",
          "name": "stdout",
          "text": [
            "Mounted at /content/drive\n"
          ]
        }
      ],
      "source": [
        "from google.colab import drive\n",
        "drive.mount('/content/drive')\n"
      ]
    },
    {
      "cell_type": "code",
      "source": [
        "import zipfile\n",
        "import os\n",
        "\n",
        "# Create a target directory for data\n",
        "data_dir = '/content/data'\n",
        "os.makedirs(data_dir, exist_ok=True)\n",
        "\n",
        "# Unzip the combined zip file\n",
        "with zipfile.ZipFile('/content/drive/MyDrive/Industrial-Equipment.zip', 'r') as zip_ref:\n",
        "    zip_ref.extractall(data_dir)\n"
      ],
      "metadata": {
        "id": "xmI53wJfz_0_"
      },
      "execution_count": null,
      "outputs": []
    },
    {
      "cell_type": "code",
      "source": [
        "data_dir = '/content/data/Industrial-Equipment'"
      ],
      "metadata": {
        "id": "MiBrGZQ18Cpv"
      },
      "execution_count": null,
      "outputs": []
    },
    {
      "cell_type": "code",
      "source": [
        "data_dir"
      ],
      "metadata": {
        "colab": {
          "base_uri": "https://localhost:8080/",
          "height": 36
        },
        "id": "4gnhSV4D6aLh",
        "outputId": "5b541b50-1a1c-46f1-c51a-480e1626c855"
      },
      "execution_count": null,
      "outputs": [
        {
          "output_type": "execute_result",
          "data": {
            "text/plain": [
              "'/content/data/Industrial-Equipment'"
            ],
            "application/vnd.google.colaboratory.intrinsic+json": {
              "type": "string"
            }
          },
          "metadata": {},
          "execution_count": 5
        }
      ]
    },
    {
      "cell_type": "code",
      "source": [
        "# Import necessary libraries\n",
        "import numpy as np\n",
        "import tensorflow as tf\n",
        "import random\n",
        "from tensorflow.keras.preprocessing.image import ImageDataGenerator\n",
        "from tensorflow.keras.applications import ResNet50\n",
        "from tensorflow.keras.layers import Dense, GlobalAveragePooling2D, BatchNormalization\n",
        "from tensorflow.keras.models import Model\n",
        "from tensorflow.keras.callbacks import ReduceLROnPlateau, EarlyStopping\n",
        "from sklearn.metrics import classification_report, confusion_matrix\n",
        "import matplotlib.pyplot as plt"
      ],
      "metadata": {
        "id": "FFVGkBOnkQOf"
      },
      "execution_count": null,
      "outputs": []
    },
    {
      "cell_type": "code",
      "source": [
        "# Set seeds for reproducibility\n",
        "seed = 42\n",
        "np.random.seed(seed)\n",
        "tf.random.set_seed(seed)\n",
        "random.seed(seed)\n",
        "\n",
        "# Set up data directories and parameters\n",
        "data_dir = '/content/data/Industrial-Equipment'\n",
        "img_size = (224, 224)\n",
        "batch_size = 32\n",
        "epochs = 5\n"
      ],
      "metadata": {
        "id": "KNyagBY1kdNf"
      },
      "execution_count": null,
      "outputs": []
    },
    {
      "cell_type": "code",
      "source": [
        "# Data Preprocessing and Augmentation\n",
        "datagen = ImageDataGenerator(\n",
        "    rescale=1./255,\n",
        "    validation_split=0.15,       # 15% for validation\n",
        "    rotation_range=10,\n",
        "    width_shift_range=0.1,\n",
        "    height_shift_range=0.1,\n",
        "    horizontal_flip=True\n",
        ")\n",
        "\n",
        "train_gen = datagen.flow_from_directory(\n",
        "    directory=data_dir,\n",
        "    target_size=img_size,\n",
        "    batch_size=batch_size,\n",
        "    class_mode='binary',\n",
        "    subset='training'\n",
        ")\n",
        "\n",
        "val_gen = datagen.flow_from_directory(\n",
        "    directory=data_dir,\n",
        "    target_size=img_size,\n",
        "    batch_size=batch_size,\n",
        "    class_mode='binary',\n",
        "    subset='validation'\n",
        ")"
      ],
      "metadata": {
        "id": "PTqpoaiM8Cjn",
        "colab": {
          "base_uri": "https://localhost:8080/"
        },
        "outputId": "607ee61d-4d30-41a9-bb49-fd7204cbb651"
      },
      "execution_count": null,
      "outputs": [
        {
          "output_type": "stream",
          "name": "stdout",
          "text": [
            "Found 5857 images belonging to 2 classes.\n",
            "Found 1033 images belonging to 2 classes.\n"
          ]
        }
      ]
    },
    {
      "cell_type": "code",
      "source": [
        "# Load Pre-trained Model (MobileNetV2) and Add Custom Layers\n",
        "from tensorflow.keras.applications import MobileNetV2\n",
        "\n",
        "base_model = MobileNetV2(weights='imagenet', include_top=False, input_shape=(224, 224, 3))\n",
        "\n"
      ],
      "metadata": {
        "id": "w0AlOqRgBb89"
      },
      "execution_count": null,
      "outputs": []
    },
    {
      "cell_type": "code",
      "source": [
        "# Freeze all but the last 10 layers\n",
        "for layer in base_model.layers[:-10]:\n",
        "    layer.trainable = False\n"
      ],
      "metadata": {
        "id": "yQTXSEGABb52"
      },
      "execution_count": null,
      "outputs": []
    },
    {
      "cell_type": "code",
      "source": [
        "# Build the model\n",
        "x = base_model.output\n",
        "x = GlobalAveragePooling2D()(x)\n",
        "x = Dense(1024, activation='relu')(x)\n",
        "x = BatchNormalization()(x)\n",
        "predictions = Dense(1, activation='sigmoid')(x)\n",
        "\n",
        "model = Model(inputs=base_model.input, outputs=predictions)\n"
      ],
      "metadata": {
        "id": "q0XnIR7uBb4S"
      },
      "execution_count": null,
      "outputs": []
    },
    {
      "cell_type": "code",
      "source": [
        "# Compile Model\n",
        "model.compile(optimizer='adam', loss='binary_crossentropy', metrics=['accuracy', tf.keras.metrics.Precision(), tf.keras.metrics.Recall()])\n"
      ],
      "metadata": {
        "id": "ZlbPlZw_Bb2h"
      },
      "execution_count": null,
      "outputs": []
    },
    {
      "cell_type": "code",
      "source": [
        "# Callbacks for learning rate reduction and early stopping\n",
        "lr_scheduler = ReduceLROnPlateau(monitor='val_loss', factor=0.5, patience=3, min_lr=1e-6)\n",
        "early_stopping = EarlyStopping(monitor='val_loss', patience=5, restore_best_weights=True)\n"
      ],
      "metadata": {
        "id": "z2AdV7RhBbw7"
      },
      "execution_count": null,
      "outputs": []
    },
    {
      "cell_type": "code",
      "source": [
        "# Train the Model\n",
        "history = model.fit(train_gen, epochs=epochs, validation_data=val_gen, callbacks=[lr_scheduler, early_stopping])\n",
        "\n"
      ],
      "metadata": {
        "id": "mLbP6YXbBbt5",
        "colab": {
          "base_uri": "https://localhost:8080/"
        },
        "outputId": "d3b54f0e-cb4b-4dc2-ab26-026722536c8e"
      },
      "execution_count": null,
      "outputs": [
        {
          "output_type": "stream",
          "name": "stdout",
          "text": [
            "Epoch 1/5\n"
          ]
        },
        {
          "output_type": "stream",
          "name": "stderr",
          "text": [
            "/usr/local/lib/python3.10/dist-packages/keras/src/trainers/data_adapters/py_dataset_adapter.py:121: UserWarning: Your `PyDataset` class should call `super().__init__(**kwargs)` in its constructor. `**kwargs` can include `workers`, `use_multiprocessing`, `max_queue_size`. Do not pass these arguments to `fit()`, as they will be ignored.\n",
            "  self._warn_if_super_not_called()\n"
          ]
        },
        {
          "output_type": "stream",
          "name": "stdout",
          "text": [
            "\u001b[1m184/184\u001b[0m \u001b[32m━━━━━━━━━━━━━━━━━━━━\u001b[0m\u001b[37m\u001b[0m \u001b[1m414s\u001b[0m 2s/step - accuracy: 0.9362 - loss: 0.1806 - precision: 0.9326 - recall: 0.9351 - val_accuracy: 0.9671 - val_loss: 0.1863 - val_precision: 0.9366 - val_recall: 1.0000 - learning_rate: 0.0010\n",
            "Epoch 2/5\n",
            "\u001b[1m184/184\u001b[0m \u001b[32m━━━━━━━━━━━━━━━━━━━━\u001b[0m\u001b[37m\u001b[0m \u001b[1m403s\u001b[0m 2s/step - accuracy: 0.9835 - loss: 0.0603 - precision: 0.9851 - recall: 0.9813 - val_accuracy: 0.9613 - val_loss: 0.1776 - val_precision: 0.9262 - val_recall: 1.0000 - learning_rate: 0.0010\n",
            "Epoch 3/5\n",
            "\u001b[1m184/184\u001b[0m \u001b[32m━━━━━━━━━━━━━━━━━━━━\u001b[0m\u001b[37m\u001b[0m \u001b[1m414s\u001b[0m 2s/step - accuracy: 0.9812 - loss: 0.0597 - precision: 0.9792 - recall: 0.9810 - val_accuracy: 0.9874 - val_loss: 0.0630 - val_precision: 0.9748 - val_recall: 1.0000 - learning_rate: 0.0010\n",
            "Epoch 4/5\n",
            "\u001b[1m184/184\u001b[0m \u001b[32m━━━━━━━━━━━━━━━━━━━━\u001b[0m\u001b[37m\u001b[0m \u001b[1m442s\u001b[0m 2s/step - accuracy: 0.9895 - loss: 0.0383 - precision: 0.9856 - recall: 0.9819 - val_accuracy: 0.9758 - val_loss: 0.1046 - val_precision: 0.9526 - val_recall: 1.0000 - learning_rate: 0.0010\n",
            "Epoch 5/5\n",
            "\u001b[1m184/184\u001b[0m \u001b[32m━━━━━━━━━━━━━━━━━━━━\u001b[0m\u001b[37m\u001b[0m \u001b[1m404s\u001b[0m 2s/step - accuracy: 0.9902 - loss: 0.0378 - precision: 0.9897 - recall: 0.9898 - val_accuracy: 0.9952 - val_loss: 0.0213 - val_precision: 0.9921 - val_recall: 0.9980 - learning_rate: 0.0010\n"
          ]
        }
      ]
    },
    {
      "cell_type": "code",
      "source": [
        "# Evaluate the Model on Validation/Test Data\n",
        "val_loss, val_accuracy, val_precision, val_recall = model.evaluate(val_gen)\n",
        "print(f\"Validation Loss: {val_loss:.4f}\")\n",
        "print(f\"Validation Accuracy: {val_accuracy:.4f}\")\n",
        "print(f\"Validation Precision: {val_precision:.4f}\")\n",
        "print(f\"Validation Recall: {val_recall:.4f}\")\n"
      ],
      "metadata": {
        "id": "d-K7RHbIBbng",
        "colab": {
          "base_uri": "https://localhost:8080/"
        },
        "outputId": "c694d1a9-0b9c-4d19-e86f-33b1a47b2f32"
      },
      "execution_count": null,
      "outputs": [
        {
          "output_type": "stream",
          "name": "stdout",
          "text": [
            "\u001b[1m33/33\u001b[0m \u001b[32m━━━━━━━━━━━━━━━━━━━━\u001b[0m\u001b[37m\u001b[0m \u001b[1m54s\u001b[0m 2s/step - accuracy: 0.9969 - loss: 0.0181 - precision: 0.9952 - recall: 0.9983\n",
            "Validation Loss: 0.0343\n",
            "Validation Accuracy: 0.9923\n",
            "Validation Precision: 0.9881\n",
            "Validation Recall: 0.9960\n"
          ]
        }
      ]
    },
    {
      "cell_type": "code",
      "source": [
        "# Generate Classification Report and Confusion Matrix\n",
        "y_pred = (model.predict(val_gen) > 0.5).astype(\"int32\")\n",
        "y_true = val_gen.classes\n",
        "\n",
        "# Classification Report\n",
        "print(classification_report(y_true, y_pred, target_names=['Non-Defective', 'Defective']))\n",
        "\n",
        "# Confusion Matrix\n",
        "print(\"Confusion Matrix:\")\n",
        "print(confusion_matrix(y_true, y_pred))\n"
      ],
      "metadata": {
        "id": "37C2dvG7Bbki",
        "colab": {
          "base_uri": "https://localhost:8080/"
        },
        "outputId": "2f734af4-bcc6-4314-bc67-6047ebaf650f"
      },
      "execution_count": null,
      "outputs": [
        {
          "output_type": "stream",
          "name": "stdout",
          "text": [
            "\u001b[1m33/33\u001b[0m \u001b[32m━━━━━━━━━━━━━━━━━━━━\u001b[0m\u001b[37m\u001b[0m \u001b[1m58s\u001b[0m 2s/step\n",
            "               precision    recall  f1-score   support\n",
            "\n",
            "Non-Defective       0.52      0.51      0.51       531\n",
            "    Defective       0.49      0.49      0.49       502\n",
            "\n",
            "     accuracy                           0.50      1033\n",
            "    macro avg       0.50      0.50      0.50      1033\n",
            " weighted avg       0.50      0.50      0.50      1033\n",
            "\n",
            "Confusion Matrix:\n",
            "[[272 259]\n",
            " [255 247]]\n"
          ]
        }
      ]
    },
    {
      "cell_type": "code",
      "source": [
        "\n",
        "# Plot Training and Validation Accuracy and Loss\n",
        "plt.figure(figsize=(12, 4))\n",
        "plt.subplot(1, 2, 1)\n",
        "plt.plot(history.history['accuracy'], label='Train Accuracy')\n",
        "plt.plot(history.history['val_accuracy'], label='Validation Accuracy')\n",
        "plt.title('Accuracy')\n",
        "plt.xlabel('Epochs')\n",
        "plt.ylabel('Accuracy')\n",
        "plt.legend()\n",
        "\n",
        "plt.subplot(1, 2, 2)\n",
        "plt.plot(history.history['loss'], label='Train Loss')\n",
        "plt.plot(history.history['val_loss'], label='Validation Loss')\n",
        "plt.title('Loss')\n",
        "plt.xlabel('Epochs')\n",
        "plt.ylabel('Loss')\n",
        "plt.legend()\n",
        "\n",
        "plt.show()"
      ],
      "metadata": {
        "id": "xhXXNkjrBbhn",
        "colab": {
          "base_uri": "https://localhost:8080/",
          "height": 410
        },
        "outputId": "84184d2b-8181-4ac2-daea-ddce8256b405"
      },
      "execution_count": null,
      "outputs": [
        {
          "output_type": "display_data",
          "data": {
            "text/plain": [
              "<Figure size 1200x400 with 2 Axes>"
            ],
            "image/png": "[encoded data removed]"
          },
          "metadata": {}
        }
      ]
    },
    {
      "cell_type": "markdown",
      "source": [
        "Prediction"
      ],
      "metadata": {
        "id": "3UjjQkbNwtOa"
      }
    },
    {
      "cell_type": "code",
      "source": [
        "from tensorflow.keras.preprocessing import image\n",
        "import numpy as np"
      ],
      "metadata": {
        "id": "GjRQ3hHTwnmO"
      },
      "execution_count": null,
      "outputs": []
    },
    {
      "cell_type": "code",
      "source": [
        "\n",
        "img = image.load_img('/content/data/Industrial-Equipment/Non-Defected/Non-Defected_0_1011.jpeg', target_size=(224, 224))\n",
        "img_array = image.img_to_array(img)\n",
        "img_array = np.expand_dims(img_array, axis=0) / 255.0  # Rescale and add batch dimension\n",
        "\n",
        "# Predict and interpret\n",
        "prediction = model.predict(img_array)\n",
        "if prediction[0][0] > 0.5:\n",
        "    print(f\"The image is classified as: Non-Defective (Confidence: {prediction[0][0]:.2f})\")\n",
        "else:\n",
        "    print(f\"The image is classified as: Defective (Confidence: {1 - prediction[0][0]:.2f})\")\n"
      ],
      "metadata": {
        "colab": {
          "base_uri": "https://localhost:8080/"
        },
        "id": "w-R9-7QYvt47",
        "outputId": "1c1418d2-dba4-4364-8490-9edb8c8e86fa"
      },
      "execution_count": null,
      "outputs": [
        {
          "output_type": "stream",
          "name": "stdout",
          "text": [
            "\u001b[1m1/1\u001b[0m \u001b[32m━━━━━━━━━━━━━━━━━━━━\u001b[0m\u001b[37m\u001b[0m \u001b[1m0s\u001b[0m 57ms/step\n",
            "The image is classified as: Non-Defective (Confidence: 1.00)\n"
          ]
        }
      ]
    },
    {
      "cell_type": "code",
      "source": [
        "img = image.load_img('/content/data/Industrial-Equipment/Defected/bearingfailures-1.png', target_size=(224, 224))\n",
        "img_array = image.img_to_array(img)\n",
        "img_array = np.expand_dims(img_array, axis=0) / 255.0  # Rescale and add batch dimension\n",
        "\n",
        "# Predict and interpret\n",
        "prediction = model.predict(img_array)\n",
        "if prediction[0][0] > 0.5:\n",
        "    print(f\"The image is classified as: Non-Defective (Confidence: {prediction[0][0]:.2f})\")\n",
        "else:\n",
        "    print(f\"The image is classified as: Defective (Confidence: {1 - prediction[0][0]:.2f})\")\n"
      ],
      "metadata": {
        "colab": {
          "base_uri": "https://localhost:8080/"
        },
        "id": "MpDn-6wdwXEB",
        "outputId": "bb2d9074-4a58-47a2-f8a6-3b534ba9b9dc"
      },
      "execution_count": null,
      "outputs": [
        {
          "output_type": "stream",
          "name": "stdout",
          "text": [
            "\u001b[1m1/1\u001b[0m \u001b[32m━━━━━━━━━━━━━━━━━━━━\u001b[0m\u001b[37m\u001b[0m \u001b[1m0s\u001b[0m 156ms/step\n",
            "The image is classified as: Defective (Confidence: 1.00)\n"
          ]
        }
      ]
    },
    {
      "cell_type": "code",
      "source": [],
      "metadata": {
        "id": "h6a2iNIxw420"
      },
      "execution_count": null,
      "outputs": []
    }
  ]
}